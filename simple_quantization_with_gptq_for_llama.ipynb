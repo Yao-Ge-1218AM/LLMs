{
  "nbformat": 4,
  "nbformat_minor": 0,
  "metadata": {
    "colab": {
      "provenance": []
    },
    "kernelspec": {
      "name": "python3",
      "display_name": "Python 3"
    },
    "language_info": {
      "name": "python"
    }
  },
  "cells": [
    {
      "cell_type": "code",
      "execution_count": null,
      "metadata": {
        "id": "AFEF-__KahLQ"
      },
      "outputs": [],
      "source": [
        "!git clone https://github.com/qwopqwop200/GPTQ-for-LLaMa\n",
        "!cd GPTQ-for-LLaMa\n",
        "!pip install -r requirements.txt"
      ]
    },
    {
      "cell_type": "code",
      "source": [
        "!CUDA_VISIBLE_DEVICES=0 python llama.py \\\n",
        "  path/to/model \\\n",
        "  c4 \\\n",
        "  --wbits 4 \\\n",
        "  --true-sequential \\\n",
        "  --act-order \\\n",
        "  --groupsize 128 \\\n",
        "  --sym \\\n",
        "  --percdamp 0.01 \\\n",
        "  --save_safetensors quantized-model-GPTQ.safetensors"
      ],
      "metadata": {
        "id": "6IhsL7fiamLj"
      },
      "execution_count": null,
      "outputs": []
    }
  ]
}